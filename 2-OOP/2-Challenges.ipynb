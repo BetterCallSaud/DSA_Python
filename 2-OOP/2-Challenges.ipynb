{
 "cells": [
  {
   "cell_type": "markdown",
   "metadata": {},
   "source": [
    "📌 **Problem Index: R-2.31:**\n",
    "*Write a Python class that extends the Progression class so that each value\n",
    "in the progression is the absolute value of the difference between the previous two values. You should include a constructor that accepts a pair of\n",
    "numbers as the first two values, using 2 and 200 as the defaults.*"
   ]
  },
  {
   "cell_type": "code",
   "execution_count": 2,
   "metadata": {},
   "outputs": [],
   "source": [
    "class Progression:\n",
    "\n",
    "    def __init__(self, start=0):\n",
    "        self._current = start\n",
    "\n",
    "    def _advance(self):\n",
    "        self._current += 1\n",
    "\n",
    "    def __next__(self):\n",
    "        if self._current is None:  # our convention to end a progression\n",
    "            raise StopIteration()\n",
    "        else:\n",
    "            answer = self._current  # record current value to return\n",
    "        self._advance()  # advance to prepare for next time\n",
    "        return answer  # return the answer\n",
    "\n",
    "    def __iter__(self):\n",
    "        return self\n",
    "\n",
    "    def print_progression(self, n):\n",
    "        print(' '.join(str(next(self)) for j in range(n)))"
   ]
  },
  {
   "cell_type": "code",
   "execution_count": 3,
   "metadata": {},
   "outputs": [],
   "source": [
    "class CustomProgression(Progression):\n",
    "    def __init__(self, first=2, second=200):\n",
    "        self._current = first\n",
    "        self._prev = first+second\n",
    "    \n",
    "    def __next__(self):\n",
    "        answer = self._current\n",
    "        self._current, self._prev = abs(self._current - self._prev), self._current\n",
    "        return answer"
   ]
  },
  {
   "cell_type": "markdown",
   "metadata": {},
   "source": [
    "📌 **Problem Index: R-2.32:**\n",
    "*Write a Python class that extends the Progression class so that each value\n",
    "in the progression is the square root of the previous value. (Note that\n",
    "you can no longer represent each value with an integer.) Your constructor should accept an optional parameter specifying the start value, using\n",
    "65,536 as a default.*"
   ]
  },
  {
   "cell_type": "code",
   "execution_count": 18,
   "metadata": {},
   "outputs": [],
   "source": [
    "class SquareRootProgression(Progression):\n",
    "    def __init__(self, start=65536):\n",
    "        self._current = start\n",
    "\n",
    "    def __next__(self):\n",
    "        answer = self._current\n",
    "        self._current = self._current**0.5\n",
    "        return answer\n",
    "\n",
    "    def __getitem__(self, index):\n",
    "        return (self._current**(1/(2**index)))"
   ]
  },
  {
   "cell_type": "code",
   "execution_count": 19,
   "metadata": {},
   "outputs": [
    {
     "name": "stdout",
     "output_type": "stream",
     "text": [
      "0 1 2 3 4 5 6 7 8 9\n"
     ]
    }
   ],
   "source": [
    "p = Progression()\n",
    "p.print_progression(10)"
   ]
  },
  {
   "cell_type": "code",
   "execution_count": 20,
   "metadata": {},
   "outputs": [
    {
     "name": "stdout",
     "output_type": "stream",
     "text": [
      "Value of 1 is 65536.0\n",
      "Value of 2 is 256.0\n",
      "Value of 3 is 16.0\n",
      "Value of 4 is 4.0\n",
      "Value of 5 is 2.0\n",
      "Value of 6 is 1.4142135623730951\n",
      "Value of 7 is 1.189207115002721\n",
      "65536 256.0 16.0 4.0 2.0 1.4142135623730951 1.189207115002721\n"
     ]
    }
   ],
   "source": [
    "sq = SquareRootProgression()\n",
    "for i in range(7):\n",
    "    print(f'Value of {i+1} is {sq[i]}')\n",
    "sq.print_progression(7)"
   ]
  }
 ],
 "metadata": {
  "interpreter": {
   "hash": "95ab7303ed2746327945aa376054eddca8c4eca362915ff95db932dbe7e7ee41"
  },
  "kernelspec": {
   "display_name": "Python 3.8.5 32-bit",
   "language": "python",
   "name": "python3"
  },
  "language_info": {
   "codemirror_mode": {
    "name": "ipython",
    "version": 3
   },
   "file_extension": ".py",
   "mimetype": "text/x-python",
   "name": "python",
   "nbconvert_exporter": "python",
   "pygments_lexer": "ipython3",
   "version": "3.8.5"
  },
  "orig_nbformat": 4
 },
 "nbformat": 4,
 "nbformat_minor": 2
}
