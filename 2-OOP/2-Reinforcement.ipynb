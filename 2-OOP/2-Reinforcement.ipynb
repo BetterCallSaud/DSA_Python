{
 "cells": [
  {
   "cell_type": "markdown",
   "metadata": {},
   "source": [
    "📌 **Problem Index: R-2.4:**\n",
    "*Write a Python class, Flower, that has three instance variables of type str,\n",
    "int, and float, that respectively represent the name of the flower, its number of petals, and its price. Your class must include a constructor method\n",
    "that initializes each variable to an appropriate value, and your class should\n",
    "include methods for setting the value of each type, and retrieving the value\n",
    "of each type.*"
   ]
  },
  {
   "cell_type": "code",
   "execution_count": 6,
   "metadata": {},
   "outputs": [],
   "source": [
    "class Flower:\n",
    "    def __init__(self, name, num_petals, price):\n",
    "        self.name = name\n",
    "        self.num_petals = num_petals\n",
    "        self.price = price\n",
    "\n",
    "    def getName(self): return self.name\n",
    "    def getNumPetals(self): return self.num_petals\n",
    "    def getPrice(self): return self.price\n",
    "\n",
    "    def setName(self, name): self.name = name\n",
    "    def setNumPetals(self, num_petals): self.num_petals = num_petals\n",
    "    def setPrice(self, price): self.price = price"
   ]
  },
  {
   "cell_type": "code",
   "execution_count": 10,
   "metadata": {},
   "outputs": [
    {
     "name": "stdout",
     "output_type": "stream",
     "text": [
      "Tulip, 9, 80\n"
     ]
    }
   ],
   "source": [
    "flower = Flower('Tulip', 9, 80)\n",
    "print(flower.getName(), end=', ')\n",
    "print(flower.getNumPetals(), end=', ')\n",
    "print(flower.getPrice())"
   ]
  },
  {
   "cell_type": "code",
   "execution_count": 11,
   "metadata": {},
   "outputs": [],
   "source": [
    "flower.setName('Marigold')\n",
    "flower.setNumPetals(23)\n",
    "flower.setPrice(50)"
   ]
  }
 ],
 "metadata": {
  "interpreter": {
   "hash": "95ab7303ed2746327945aa376054eddca8c4eca362915ff95db932dbe7e7ee41"
  },
  "kernelspec": {
   "display_name": "Python 3.8.5 32-bit",
   "language": "python",
   "name": "python3"
  },
  "language_info": {
   "codemirror_mode": {
    "name": "ipython",
    "version": 3
   },
   "file_extension": ".py",
   "mimetype": "text/x-python",
   "name": "python",
   "nbconvert_exporter": "python",
   "pygments_lexer": "ipython3",
   "version": "3.8.5"
  },
  "orig_nbformat": 4
 },
 "nbformat": 4,
 "nbformat_minor": 2
}
