{
 "cells": [
  {
   "cell_type": "markdown",
   "metadata": {},
   "source": [
    "📌 **Problem Index: P-2.33:**\n",
    "*Write a Python program that inputs a polynomial in standard algebraic\n",
    "notation and outputs the first derivative of that polynomial.*"
   ]
  },
  {
   "cell_type": "code",
   "execution_count": 60,
   "metadata": {},
   "outputs": [],
   "source": [
    "class Polynomial:\n",
    "    def __init__(self, degree, constants):\n",
    "        self.constants = constants\n",
    "        self.degree = degree\n",
    "        assert len(constants) == degree + 1\n",
    "\n",
    "    def first_derivative(self):\n",
    "        deriv = ''\n",
    "        for i in range(self.degree):\n",
    "            if i == self.degree - 1: deriv += f'{constants[i] * (self.degree - i)}'\n",
    "            elif self.degree - i == 2: deriv += f'{constants[i] * (self.degree - i)}x + '\n",
    "            else: deriv += f'{constants[i] * (self.degree - i)}x^{self.degree - i - 1} + '\n",
    "        return deriv\n",
    "\n",
    "    def print_polynomial(self):\n",
    "        poly = ''\n",
    "        for i in range(self.degree+1):\n",
    "            if i == self.degree: poly += str(constants[i])\n",
    "            else: \n",
    "                if constants[i] == 1: poly += f'x^{self.degree - i} + '\n",
    "                elif self.degree - i == 1: poly += f'{constants[i]}x + '\n",
    "                else: poly += f'{constants[i]}x^{self.degree - i} + '\n",
    "        return poly"
   ]
  },
  {
   "cell_type": "code",
   "execution_count": 61,
   "metadata": {},
   "outputs": [
    {
     "name": "stdout",
     "output_type": "stream",
     "text": [
      "8x^7 + 7x^6 + 6x^5 + 5x^4 + 4x^3 + 3x^2 + 2x + 1\n",
      "56x^6 + 42x^5 + 30x^4 + 20x^3 + 12x^2 + 6x + 2\n"
     ]
    }
   ],
   "source": [
    "constants = [8,7,6,5,4,3,2,1]\n",
    "degree = 7\n",
    "p = Polynomial(degree, constants)\n",
    "print(p.print_polynomial())\n",
    "print(p.first_derivative())"
   ]
  },
  {
   "cell_type": "markdown",
   "metadata": {},
   "source": [
    "📌 **Problem Index: P-2.34:**\n",
    "*Write a Python program that inputs a document and then outputs a bar-chart plot of the frequencies of each alphabet character that appears in\n",
    "that document.*"
   ]
  },
  {
   "cell_type": "code",
   "execution_count": 7,
   "metadata": {},
   "outputs": [
    {
     "data": {
      "text/plain": [
       "{'Bros': 1,\n",
       " 'before': 1,\n",
       " 'hos': 2,\n",
       " 'Why': 1,\n",
       " 'Because': 1,\n",
       " 'your': 6,\n",
       " 'bros': 1,\n",
       " 'are': 2,\n",
       " 'always': 1,\n",
       " 'there': 1,\n",
       " 'for': 3,\n",
       " 'you': 4,\n",
       " 'They': 1,\n",
       " 'have': 1,\n",
       " 'got': 1,\n",
       " 'back': 1,\n",
       " 'after': 1,\n",
       " 'ho': 4,\n",
       " 'rips': 1,\n",
       " 'heart': 1,\n",
       " 'out': 1,\n",
       " 'no': 2,\n",
       " 'good': 1,\n",
       " 'reason': 1,\n",
       " 'And': 2,\n",
       " 'nothing': 1,\n",
       " 'but': 1,\n",
       " 'great': 1,\n",
       " 'to': 1,\n",
       " 'and': 2,\n",
       " 'told': 1,\n",
       " 'her': 1,\n",
       " 'that': 2,\n",
       " 'she': 3,\n",
       " 'was': 2,\n",
       " 'the': 3,\n",
       " 'only': 1,\n",
       " 'better': 1,\n",
       " 'than': 1,\n",
       " 'all': 1,\n",
       " 'other': 1,\n",
       " 'in': 1,\n",
       " 'world': 1,\n",
       " 'then': 1,\n",
       " 'Then': 1,\n",
       " 'suddenly': 1,\n",
       " 'is': 1,\n",
       " 'not': 1,\n",
       " 'mo!': 1}"
      ]
     },
     "execution_count": 7,
     "metadata": {},
     "output_type": "execute_result"
    }
   ],
   "source": [
    "class WordCount:\n",
    "    def __init__(self, filename):\n",
    "        self.filename = filename\n",
    "        self.counter = dict()\n",
    "\n",
    "    def count_words(self):\n",
    "        with open(self.filename, 'r') as f:\n",
    "            for row in f.readlines():\n",
    "                for word in row.split(' '):\n",
    "                    if word in self.counter: self.counter[word] += 1\n",
    "                    else: self.counter[word] = 1\n",
    "        return self.counter\n",
    "\n",
    "filename = './words.txt'\n",
    "wc = WordCount(filename)\n",
    "wc.count_words()"
   ]
  },
  {
   "cell_type": "code",
   "execution_count": null,
   "metadata": {},
   "outputs": [],
   "source": []
  }
 ],
 "metadata": {
  "interpreter": {
   "hash": "95ab7303ed2746327945aa376054eddca8c4eca362915ff95db932dbe7e7ee41"
  },
  "kernelspec": {
   "display_name": "Python 3.8.5 32-bit",
   "language": "python",
   "name": "python3"
  },
  "language_info": {
   "codemirror_mode": {
    "name": "ipython",
    "version": 3
   },
   "file_extension": ".py",
   "mimetype": "text/x-python",
   "name": "python",
   "nbconvert_exporter": "python",
   "pygments_lexer": "ipython3",
   "version": "3.8.5"
  },
  "orig_nbformat": 4
 },
 "nbformat": 4,
 "nbformat_minor": 2
}
